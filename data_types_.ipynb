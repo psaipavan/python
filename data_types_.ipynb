{
  "nbformat": 4,
  "nbformat_minor": 0,
  "metadata": {
    "colab": {
      "name": "data types .ipynb",
      "provenance": [],
      "authorship_tag": "ABX9TyPAU1xv3O2YBWeUWKO4IiTz",
      "include_colab_link": true
    },
    "kernelspec": {
      "name": "python3",
      "display_name": "Python 3"
    },
    "language_info": {
      "name": "python"
    }
  },
  "cells": [
    {
      "cell_type": "markdown",
      "metadata": {
        "id": "view-in-github",
        "colab_type": "text"
      },
      "source": [
        "<a href=\"https://colab.research.google.com/github/pullurisaipavan/python/blob/module1/data_types_.ipynb\" target=\"_parent\"><img src=\"https://colab.research.google.com/assets/colab-badge.svg\" alt=\"Open In Colab\"/></a>"
      ]
    },
    {
      "cell_type": "code",
      "execution_count": null,
      "metadata": {
        "colab": {
          "base_uri": "https://localhost:8080/"
        },
        "id": "4d6WmSfmIWYy",
        "outputId": "8d0e6ecc-563a-41a7-8db0-ece16214e301"
      },
      "outputs": [
        {
          "output_type": "stream",
          "name": "stdout",
          "text": [
            "15\n"
          ]
        }
      ],
      "source": [
        "a=10;b=5;c=a+b;print(c);"
      ]
    },
    {
      "cell_type": "code",
      "source": [
        "a=2\n",
        "b=3\n",
        "c=4\n",
        "d=(a+b+c)/3\n",
        "print(type(a))\n",
        "print(type(c))\n",
        "print(type(b))\n",
        "print(type(d))"
      ],
      "metadata": {
        "colab": {
          "base_uri": "https://localhost:8080/"
        },
        "id": "zP0qDk8kJTsZ",
        "outputId": "072d7ae9-f49f-4d43-9ff1-45f20fb38814"
      },
      "execution_count": null,
      "outputs": [
        {
          "output_type": "stream",
          "name": "stdout",
          "text": [
            "<class 'int'>\n",
            "<class 'int'>\n",
            "<class 'int'>\n",
            "<class 'float'>\n"
          ]
        }
      ]
    },
    {
      "cell_type": "code",
      "source": [
        "a=int(input(\"enter a number  \"))\n",
        "b=float(input(\"enter a number \"))\n",
        "c=(input(\"enter a number \"))\n",
        "\n",
        "print(a)\n",
        "print(b)\n",
        "print(c)\n",
        "d=(a+b+c)/3\n",
        "print(d)"
      ],
      "metadata": {
        "colab": {
          "base_uri": "https://localhost:8080/"
        },
        "id": "royy8HFHKQ7y",
        "outputId": "cfb43aca-8c51-43d8-d5da-619d2fce7075"
      },
      "execution_count": null,
      "outputs": [
        {
          "output_type": "stream",
          "name": "stdout",
          "text": [
            "enter a number  21\n",
            "enter a number 32\n",
            "enter a number 23\n",
            "21\n",
            "32.0\n",
            "23\n"
          ]
        }
      ]
    }
  ]
}