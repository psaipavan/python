{
  "nbformat": 4,
  "nbformat_minor": 0,
  "metadata": {
    "colab": {
      "name": "dictionary.ipynb",
      "provenance": [],
      "authorship_tag": "ABX9TyOo+ImqJUd4Wgb4qrq8wIrB",
      "include_colab_link": true
    },
    "kernelspec": {
      "name": "python3",
      "display_name": "Python 3"
    },
    "language_info": {
      "name": "python"
    }
  },
  "cells": [
    {
      "cell_type": "markdown",
      "metadata": {
        "id": "view-in-github",
        "colab_type": "text"
      },
      "source": [
        "<a href=\"https://colab.research.google.com/github/pullurisaipavan/python/blob/module2/dictionary.ipynb\" target=\"_parent\"><img src=\"https://colab.research.google.com/assets/colab-badge.svg\" alt=\"Open In Colab\"/></a>"
      ]
    },
    {
      "cell_type": "code",
      "execution_count": null,
      "metadata": {
        "colab": {
          "base_uri": "https://localhost:8080/"
        },
        "id": "Ipw2NjwUb-is",
        "outputId": "9645ca50-8bea-4199-fc69-8d0f54898c08"
      },
      "outputs": [
        {
          "output_type": "stream",
          "name": "stdout",
          "text": [
            "{'sai': 'lily', 'charan': 'put', 'year': 2022}\n"
          ]
        }
      ],
      "source": [
        "#dictonaries in python\n",
        "x = {\n",
        "    \"sai\": \"lily\",\n",
        "    \"charan\": \"put\",\n",
        "    \"year\": 2022\n",
        "    }\n",
        "print(x)"
      ]
    },
    {
      "cell_type": "code",
      "source": [
        "#dictonaries in python\n",
        "x = {\n",
        "    \"sai\": \"lily\",\n",
        "    \"charan\": \"put\",\n",
        "    \"year\": 2022\n",
        "    }\n",
        "print(x[\"charan\"])"
      ],
      "metadata": {
        "colab": {
          "base_uri": "https://localhost:8080/"
        },
        "id": "6sFO5ImwdOLk",
        "outputId": "d803351d-2a39-4fa3-ffcc-a3cfe1399d38"
      },
      "execution_count": null,
      "outputs": [
        {
          "output_type": "stream",
          "name": "stdout",
          "text": [
            "put\n"
          ]
        }
      ]
    },
    {
      "cell_type": "code",
      "source": [
        "y = {\n",
        "    \"kaushik\": \"elluru\",\n",
        "    \"gan\": \"man\",\n",
        "    \"nd\": 2022,\n",
        "    \"nd\":2020\n",
        "    }\n",
        "print(y)\n",
        "print(len(y)) #len for finding the length of the dictionary"
      ],
      "metadata": {
        "colab": {
          "base_uri": "https://localhost:8080/"
        },
        "id": "PCN0JIVFdohK",
        "outputId": "c309bc7c-b4fa-44e1-eb6f-f9e20c836264"
      },
      "execution_count": null,
      "outputs": [
        {
          "output_type": "stream",
          "name": "stdout",
          "text": [
            "{'kaushik': 'elluru', 'gan': 'man', 'nd': 2020}\n",
            "3\n"
          ]
        }
      ]
    },
    {
      "cell_type": "code",
      "source": [
        "x = {\n",
        "    \"sai\": \"lily\",            #strings,int,boolean,list data types can be used\n",
        "    \"charan\": \"put\",\n",
        "    \"year\": 2022,\n",
        "    \"colors\": [\"red\",\"green\",\"blue\"]\n",
        "    }\n",
        "print(type(x))"
      ],
      "metadata": {
        "colab": {
          "base_uri": "https://localhost:8080/"
        },
        "id": "wGR-sK5jeiUc",
        "outputId": "73b29bca-3ee8-4036-aad8-c5b4bb5d5936"
      },
      "execution_count": null,
      "outputs": [
        {
          "output_type": "stream",
          "name": "stdout",
          "text": [
            "<class 'dict'>\n"
          ]
        }
      ]
    },
    {
      "cell_type": "code",
      "source": [
        "#to access the items in the dict\n",
        "x = {\n",
        "    \"sai\": \"lily\",\n",
        "    \"charan\": \"put\",\n",
        "    \"year\": 2022\n",
        "    }\n",
        "y=x[\"charan\"]\n",
        "print(y)\n",
        "z=x.get(\"charan\")\n",
        "print(z)"
      ],
      "metadata": {
        "colab": {
          "base_uri": "https://localhost:8080/"
        },
        "id": "LMIgDjYQfZzy",
        "outputId": "e3df64e7-ed6d-417c-c458-e879f427508e"
      },
      "execution_count": null,
      "outputs": [
        {
          "output_type": "stream",
          "name": "stdout",
          "text": [
            "put\n",
            "put\n"
          ]
        }
      ]
    },
    {
      "cell_type": "code",
      "source": [
        "dict={\"sai charan\":\"lilyput\",\"saketh\":\"jennie\",\"laxman\":\"chocolate\",\"kaushik\":\"elluru alludu\"}\n",
        "x=dict.keys()\n",
        "print(x)#before changes\n",
        "dict[\"pavan\"]=\"moon\"\n",
        "print(x)#after changes\n"
      ],
      "metadata": {
        "colab": {
          "base_uri": "https://localhost:8080/"
        },
        "id": "WVXWlzTLf6Oi",
        "outputId": "61b798d0-6802-4df9-e867-e4fd1545bced"
      },
      "execution_count": null,
      "outputs": [
        {
          "output_type": "stream",
          "name": "stdout",
          "text": [
            "dict_keys(['sai charan', 'saketh', 'laxman', 'kaushik'])\n",
            "dict_keys(['sai charan', 'saketh', 'laxman', 'kaushik', 'pavan'])\n"
          ]
        }
      ]
    },
    {
      "cell_type": "code",
      "source": [
        "placements={\"name\":input(),\n",
        "            \"age\":input(),\n",
        "            \"branch\":input(),\n",
        "            \"cgpa\":input(),\n",
        "            \"mobile no.\":input(),\n",
        "            }"
      ],
      "metadata": {
        "colab": {
          "base_uri": "https://localhost:8080/"
        },
        "id": "fAu393BChe2L",
        "outputId": "58a424a3-f03d-4dce-9cd7-9fb6e7b1e053"
      },
      "execution_count": null,
      "outputs": [
        {
          "name": "stdout",
          "output_type": "stream",
          "text": [
            "sai\n",
            "18\n",
            "cse ai and ml\n",
            "9.8\n",
            "978654567889\n"
          ]
        }
      ]
    },
    {
      "cell_type": "code",
      "source": [
        "x = {\n",
        "    \"sai\": \"lily\",\n",
        "    \"charan\": \"put\",\n",
        "    \"year\": 2022\n",
        "    }\n",
        "y=x.items()\n",
        "print(y)"
      ],
      "metadata": {
        "colab": {
          "base_uri": "https://localhost:8080/"
        },
        "id": "l7PWPt-ejuIS",
        "outputId": "13805ec9-f3da-422e-e40a-6a7feb569b24"
      },
      "execution_count": null,
      "outputs": [
        {
          "output_type": "stream",
          "name": "stdout",
          "text": [
            "dict_items([('sai', 'lily'), ('charan', 'put'), ('year', 2022)])\n"
          ]
        }
      ]
    },
    {
      "cell_type": "code",
      "source": [
        "x = {\n",
        "    \"sai\": \"lily\",\n",
        "    \"charan\": \"put\",\n",
        "    \"year\": 2021\n",
        "    }\n",
        "y=x.items()\n",
        "print(y)\n",
        "x[\"charan\"]=\"baby liliput\"\n",
        "\n",
        "z=x.items()\n",
        "x[\"year\"]=2022\n",
        "print(z)"
      ],
      "metadata": {
        "colab": {
          "base_uri": "https://localhost:8080/"
        },
        "id": "FFVe6EJ5kfsy",
        "outputId": "355492da-5c6a-4de0-dfca-b0dcc3674b40"
      },
      "execution_count": null,
      "outputs": [
        {
          "output_type": "stream",
          "name": "stdout",
          "text": [
            "dict_items([('sai', 'lily'), ('charan', 'put'), ('year', 2021)])\n",
            "dict_items([('sai', 'lily'), ('charan', 'baby liliput'), ('year', 2022)])\n"
          ]
        }
      ]
    },
    {
      "cell_type": "code",
      "source": [
        "thisdict = {\n",
        "  \"brand\": \"Ford\",\n",
        "  \"model\": \"Mustang\", #empties the dictonaries\n",
        "  \"year\": 1964\n",
        "}\n",
        "thisdict.clear()\n",
        "print(thisdict)"
      ],
      "metadata": {
        "colab": {
          "base_uri": "https://localhost:8080/"
        },
        "id": "ACF1HIVNDCVg",
        "outputId": "4a05693f-ba94-4087-fc32-3d5afc020dbf"
      },
      "execution_count": null,
      "outputs": [
        {
          "output_type": "stream",
          "name": "stdout",
          "text": [
            "{}\n"
          ]
        }
      ]
    },
    {
      "cell_type": "code",
      "source": [
        "x = {\n",
        "    \"sai\": \"lily\",\n",
        "    \"charan\": \"put\",\n",
        "    \"year\": 2021\n",
        "    }\n",
        "    del x\n",
        "    print(x)"
      ],
      "metadata": {
        "colab": {
          "base_uri": "https://localhost:8080/",
          "height": 130
        },
        "id": "N2HAzq4YDsNa",
        "outputId": "4aa43421-0c61-480f-83a3-6c837700363b"
      },
      "execution_count": null,
      "outputs": [
        {
          "output_type": "error",
          "ename": "IndentationError",
          "evalue": "ignored",
          "traceback": [
            "\u001b[0;36m  File \u001b[0;32m\"<ipython-input-2-b7bfc3cc7da7>\"\u001b[0;36m, line \u001b[0;32m6\u001b[0m\n\u001b[0;31m    del x\u001b[0m\n\u001b[0m    ^\u001b[0m\n\u001b[0;31mIndentationError\u001b[0m\u001b[0;31m:\u001b[0m unexpected indent\n"
          ]
        }
      ]
    },
    {
      "cell_type": "code",
      "source": [
        "x = {\n",
        "    \"sai\": \"lily\",\n",
        "    \"charan\": \"put\",\n",
        "    \"year\": 2021\n",
        "    }\n",
        "del x[\"charan\"]\n",
        "print(x)\n"
      ],
      "metadata": {
        "colab": {
          "base_uri": "https://localhost:8080/"
        },
        "id": "oo0LcPt1Dyki",
        "outputId": "7d909a0d-7ecc-4873-a8fe-b90bf6fbab71"
      },
      "execution_count": null,
      "outputs": [
        {
          "output_type": "stream",
          "name": "stdout",
          "text": [
            "{'sai': 'lily', 'year': 2021}\n"
          ]
        }
      ]
    },
    {
      "cell_type": "code",
      "source": [
        "#pop removes the last item of the dictionaries\n",
        "x = {\n",
        "    \"sai\": \"lily\",\n",
        "    \"charan\": \"put\",\n",
        "    \"year\": 2021\n",
        "     }\n",
        "x.popitem()\n",
        "print(x)"
      ],
      "metadata": {
        "colab": {
          "base_uri": "https://localhost:8080/"
        },
        "id": "jQq0QvdEEOCz",
        "outputId": "e45cfebd-be34-41bd-a2d6-38cff835a198"
      },
      "execution_count": null,
      "outputs": [
        {
          "output_type": "stream",
          "name": "stdout",
          "text": [
            "{'sai': 'lily', 'charan': 'put'}\n"
          ]
        }
      ]
    },
    {
      "cell_type": "code",
      "source": [
        "#pop to remove the specified position in the dictionaries\n",
        "x = {\n",
        "    \"sai\": \"lily\",\n",
        "    \"charan\": \"put\",\n",
        "    \"year\": 2021\n",
        "     }\n",
        "x.pop(\"charan\")\n",
        "print(x)"
      ],
      "metadata": {
        "colab": {
          "base_uri": "https://localhost:8080/"
        },
        "id": "_FrkX5mLEhlb",
        "outputId": "a2ec83c5-4326-4c90-eb5e-5a5b0b8eb448"
      },
      "execution_count": null,
      "outputs": [
        {
          "output_type": "stream",
          "name": "stdout",
          "text": [
            "{'sai': 'lily', 'year': 2021}\n"
          ]
        }
      ]
    },
    {
      "cell_type": "code",
      "source": [
        "#loops in dictionaries\n",
        "sai= {\n",
        "    \"sai\": \"lily\",\n",
        "    \"charan\": \"put\", #to print the key named\n",
        "    \"year\": 2021\n",
        "     }\n",
        "for x in sai:     \n",
        "   print(x)\n"
      ],
      "metadata": {
        "colab": {
          "base_uri": "https://localhost:8080/"
        },
        "id": "iwisC1G5FFNo",
        "outputId": "6ca2385c-934d-48c2-af87-14d5579ba36b"
      },
      "execution_count": null,
      "outputs": [
        {
          "output_type": "stream",
          "name": "stdout",
          "text": [
            "sai\n",
            "charan\n",
            "year\n"
          ]
        }
      ]
    },
    {
      "cell_type": "code",
      "source": [
        "sai= {\n",
        "    \"sai\": \"lily\",\n",
        "    \"charan\": \"put\",\n",
        "    \"year\": 2021           #to print value in dictionaries\n",
        "     }\n",
        "for x in sai:\n",
        "  print(sai[x])     "
      ],
      "metadata": {
        "colab": {
          "base_uri": "https://localhost:8080/"
        },
        "id": "u8sgRRpSFTeP",
        "outputId": "49fad952-7602-44f1-9347-92cc117e06a3"
      },
      "execution_count": null,
      "outputs": [
        {
          "output_type": "stream",
          "name": "stdout",
          "text": [
            "lily\n",
            "put\n",
            "2021\n"
          ]
        }
      ]
    },
    {
      "cell_type": "code",
      "source": [
        "pavan= {\n",
        "    \"sai\": \"lily\",\n",
        "    \"charan\": \"put\",\n",
        "    \"year\": 2021\n",
        "    }\n",
        "for x in pavan.values():\n",
        "  print(x)\n",
        "for x in pavan.keys():\n",
        "  print(x) \n",
        "for x, y in pavan.items():\n",
        "  print(x) \n",
        "    \n"
      ],
      "metadata": {
        "colab": {
          "base_uri": "https://localhost:8080/"
        },
        "id": "dYl7HYcdF4CL",
        "outputId": "13d60665-2539-48ae-f753-6745b75aa309"
      },
      "execution_count": null,
      "outputs": [
        {
          "output_type": "stream",
          "name": "stdout",
          "text": [
            "lily\n",
            "put\n",
            "2021\n",
            "sai\n",
            "charan\n",
            "year\n",
            "sai\n",
            "charan\n",
            "year\n"
          ]
        }
      ]
    },
    {
      "cell_type": "code",
      "source": [
        "pavan= {\n",
        "    \"sai\": \"lily\",\n",
        "    \"charan\": \"put\",\n",
        "    \"year\": 2021\n",
        "    }\n",
        "sai=pavan.copy()\n",
        "print(sai)\n",
        "sai=dict(pavan)\n",
        "print(sai)"
      ],
      "metadata": {
        "colab": {
          "base_uri": "https://localhost:8080/"
        },
        "id": "muywHDQpGKxW",
        "outputId": "1ae1614e-3f07-4e9f-8f54-fc281d3859b5"
      },
      "execution_count": null,
      "outputs": [
        {
          "output_type": "stream",
          "name": "stdout",
          "text": [
            "{'sai': 'lily', 'charan': 'put', 'year': 2021}\n",
            "{'sai': 'lily', 'charan': 'put', 'year': 2021}\n"
          ]
        }
      ]
    },
    {
      "cell_type": "code",
      "source": [
        "childchran = {\n",
        "  \"name\" : \"liliput\",\n",
        "  \"year\" : 2022\n",
        "}\n",
        "childkaushik = {\n",
        "  \"name\" : \"lucky\",\n",
        "  \"year\" : 2023\n",
        "}\n",
        "childsaketh = {\n",
        "  \"name\" : \"jennie\",\n",
        "  \"year\" : 2024\n",
        "}\n",
        "\n",
        "myfamily = {\n",
        "  \"childchran\" : childchran,\n",
        "  \"childkaushik\" :childkaushik ,\n",
        "  \"childsaketh\" : childsaketh\n",
        "}"
      ],
      "metadata": {
        "id": "b8EG8uIpIfkG"
      },
      "execution_count": null,
      "outputs": []
    },
    {
      "cell_type": "code",
      "source": [
        "childchran = {\n",
        "  \"name\" : \"liliput\",\n",
        "  \"year\" : 2022\n",
        "}\n",
        "childkaushik = {\n",
        "  \"name\" : \"lucky\",\n",
        "  \"year\" : 2023\n",
        "}\n",
        "childsaketh = {\n",
        "  \"name\" : \"jennie\",\n",
        "  \"year\" : 2024\n",
        "}\n",
        "singlepavan={\n",
        "    \"name\":\"pavan\",\n",
        "    \"year\" : 2004\n",
        "}"
      ],
      "metadata": {
        "id": "0PHhPfyXJULm"
      },
      "execution_count": null,
      "outputs": []
    },
    {
      "cell_type": "code",
      "source": [
        ""
      ],
      "metadata": {
        "id": "kJMEuPpBJZOE"
      },
      "execution_count": null,
      "outputs": []
    }
  ]
}